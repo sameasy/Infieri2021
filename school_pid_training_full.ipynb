{
 "cells": [
  {
   "cell_type": "markdown",
   "metadata": {},
   "source": [
    "# This notebook demonstrates PID\n",
    "## training with a basic edgeconv vs dynamic reduction graph networks"
   ]
  },
  {
   "cell_type": "code",
   "execution_count": 1,
   "metadata": {},
   "outputs": [
    {
     "data": {
      "text/html": [
       "<style>.container { width:98% !important; }</style>"
      ],
      "text/plain": [
       "<IPython.core.display.HTML object>"
      ]
     },
     "metadata": {},
     "output_type": "display_data"
    }
   ],
   "source": [
    "from IPython.core.display import display, HTML\n",
    "display(HTML(\"<style>.container { width:98% !important; }</style>\"))"
   ]
  },
  {
   "cell_type": "code",
   "execution_count": 2,
   "metadata": {},
   "outputs": [
    {
     "data": {
      "text/plain": [
       "<torch._C.Generator at 0x7ffbc0456d80>"
      ]
     },
     "execution_count": 2,
     "metadata": {},
     "output_type": "execute_result"
    }
   ],
   "source": [
    "import torch\n",
    "import torch_geometric\n",
    "import torch\n",
    "import os\n",
    "import os.path as osp\n",
    "import numpy as np\n",
    "from tqdm import tqdm as tqdm\n",
    "from torch_geometric.data import Data\n",
    "torch.manual_seed(1)"
   ]
  },
  {
   "cell_type": "markdown",
   "metadata": {},
   "source": [
    "## Load arrays"
   ]
  },
  {
   "cell_type": "code",
   "execution_count": 3,
   "metadata": {},
   "outputs": [],
   "source": [
    "### format evno, x, y, z, l, t, e\n",
    "phoar = np.load(\"phoarray.npy\")\n",
    "#piar = np.load(\"piarrayp80.npy\")\n",
    "piar = np.load(\"piarrayp80.npy\")"
   ]
  },
  {
   "cell_type": "markdown",
   "metadata": {},
   "source": [
    "## Transform data to torch_geometric format"
   ]
  },
  {
   "cell_type": "code",
   "execution_count": 4,
   "metadata": {},
   "outputs": [],
   "source": [
    "def makedatslist(inputarray,nlay,label):\n",
    "    datalist = []\n",
    "    for evts in tqdm(np.unique(inputarray[:,0])):\n",
    "        evar = inputarray[inputarray[:,0] == evts]\n",
    "        evar_sel = evar[evar[:,4] <= nlay ]\n",
    "        evar_sel = evar_sel[:,[1,2,3,5,6]] ### train data feats : x,y,z,t,e\n",
    "        datalist.append(Data(x = torch.tensor(evar_sel, dtype=torch.float32),y = torch.tensor([int(label)])))\n",
    "    return datalist"
   ]
  },
  {
   "cell_type": "code",
   "execution_count": 5,
   "metadata": {},
   "outputs": [
    {
     "name": "stderr",
     "output_type": "stream",
     "text": [
      "100%|██████████| 1000/1000 [00:05<00:00, 183.03it/s]\n"
     ]
    },
    {
     "name": "stdout",
     "output_type": "stream",
     "text": [
      "phodatasetsize: 1000\n"
     ]
    },
    {
     "name": "stderr",
     "output_type": "stream",
     "text": [
      "100%|██████████| 609/609 [00:01<00:00, 387.40it/s]"
     ]
    },
    {
     "name": "stdout",
     "output_type": "stream",
     "text": [
      "pidatasetsize: 609\n"
     ]
    },
    {
     "name": "stderr",
     "output_type": "stream",
     "text": [
      "\n"
     ]
    }
   ],
   "source": [
    "phodatalist = makedatslist(phoar,30,0) \n",
    "print(\"phodatasetsize:\",len(phodatalist))\n",
    "pidatalist = makedatslist(piar,30,1) \n",
    "print(\"pidatasetsize:\",len(pidatalist))"
   ]
  },
  {
   "cell_type": "markdown",
   "metadata": {},
   "source": [
    "## Split dataset into train and test"
   ]
  },
  {
   "cell_type": "code",
   "execution_count": 6,
   "metadata": {},
   "outputs": [
    {
     "name": "stdout",
     "output_type": "stream",
     "text": [
      "1000 218\n"
     ]
    }
   ],
   "source": [
    "traindata = pidatalist[:500] + phodatalist[:500]\n",
    "testdata = pidatalist[500:] + phodatalist[500:500+len(pidatalist[500:])]\n",
    "\n",
    "print(len(traindata),len(testdata))\n",
    "\n",
    "import random\n",
    "random.shuffle(traindata)\n",
    "ntrainbatch = 50\n",
    "ntestbatch = 50\n",
    "trainloader = torch_geometric.data.DataLoader(traindata, batch_size=ntrainbatch)\n",
    "testloader = torch_geometric.data.DataLoader(testdata, batch_size=ntestbatch)"
   ]
  },
  {
   "cell_type": "markdown",
   "metadata": {},
   "source": [
    "## Simple EdgeConv network"
   ]
  },
  {
   "cell_type": "code",
   "execution_count": 7,
   "metadata": {},
   "outputs": [],
   "source": [
    "### define the network\n",
    "\n",
    "import torch.nn as nn\n",
    "import torch.nn.functional as F\n",
    "import torch_geometric.transforms as T\n",
    "\n",
    "from torch.utils.checkpoint import checkpoint\n",
    "from torch_cluster import knn_graph\n",
    "\n",
    "from torch_geometric.nn import EdgeConv\n",
    "from torch_geometric.utils import remove_self_loops\n",
    "from torch_geometric.utils.undirected import to_undirected\n",
    "from torch_geometric.nn import (graclus, max_pool, max_pool_x,\n",
    "                                global_mean_pool, global_max_pool,\n",
    "                                global_add_pool,BatchNorm)\n",
    "\n",
    "\n",
    "transform = T.Cartesian(cat=False)\n",
    "\n",
    "\n",
    "\n",
    "class PIDNetwork(nn.Module):\n",
    "    \n",
    "    def __init__(self, input_dim=24, hidden_dim=50, output_dim=2, k=16, aggr='add' ):#,\n",
    "                 #norm=torch.tensor([1./100., 1./100., 1./300., 1./100.])):\n",
    "                 \n",
    "        super(PIDNetwork, self).__init__()\n",
    "        \n",
    "        self.k = k\n",
    "        start_width = 2 * hidden_dim\n",
    "        middle_width = 3 * hidden_dim // 2\n",
    "\n",
    "        \n",
    "        ### input net takes to higher dim representation\n",
    "        self.inputnet =  nn.Sequential(\n",
    "            nn.Linear(input_dim, hidden_dim//2),            \n",
    "            nn.ELU(),\n",
    "            nn.Dropout(0.2),\n",
    "            nn.Linear(hidden_dim//2, hidden_dim//2),\n",
    "            nn.ELU(),\n",
    "            nn.Linear(hidden_dim//2, hidden_dim),\n",
    "            nn.ELU(),\n",
    "            \n",
    "        )\n",
    "        \n",
    "        ## nets used in edgeconv\n",
    "        convnn1 = nn.Sequential(nn.Linear(start_width, middle_width),\n",
    "                                nn.ELU(),\n",
    "                                nn.Dropout(0.2),\n",
    "                                nn.Linear(middle_width, hidden_dim),                                             \n",
    "                                nn.ELU()\n",
    "                                )\n",
    "        convnn2 = nn.Sequential(nn.Linear(start_width, middle_width),\n",
    "                                nn.ELU(),\n",
    "                                nn.Dropout(0.2),\n",
    "                                nn.Linear(middle_width, hidden_dim),                                             \n",
    "                                nn.ELU()\n",
    "                                )\n",
    "        \n",
    "        \n",
    "        ## define the edgeconv network       \n",
    "        self.edgeconv1 = EdgeConv(nn=convnn1, aggr=aggr)\n",
    "        self.edgeconv2 = EdgeConv(nn=convnn2, aggr=aggr)\n",
    "        \n",
    "        \n",
    "        ## output network to get class predictions\n",
    "        self.output = nn.Sequential(nn.Linear(hidden_dim, hidden_dim*2),\n",
    "                                    nn.ELU(),\n",
    "                                    nn.Dropout(0.2),\n",
    "                                    nn.Linear(hidden_dim*2, hidden_dim//2),\n",
    "                                    nn.ELU(),\n",
    "                                    nn.Dropout(0.2),\n",
    "                                    nn.Linear(hidden_dim//2, output_dim)\n",
    "                                   )\n",
    "\n",
    "    ### data flow    \n",
    "    def forward(self, data): \n",
    "        #data.x = self.datanorm * data.x\n",
    "        \n",
    "        data.edge_index = to_undirected(knn_graph(data.x[:,3], self.k, data.batch, loop=False, flow=self.edgeconv1.flow))\n",
    "        \n",
    "        data.x = self.inputnet(data.x)\n",
    "        \n",
    "        data.x = self.edgeconv1(data.x, data.edge_index)\n",
    "        data.edge_index = to_undirected(knn_graph(data.x, self.k, data.batch, loop=False, flow=self.edgeconv2.flow))\n",
    "        \n",
    "        \n",
    "        \n",
    "        x = self.edgeconv2(data.x, data.edge_index)\n",
    "        \n",
    "        x = global_mean_pool(x, data.batch)\n",
    "        \n",
    "\n",
    "        return self.output(x).squeeze(-1) "
   ]
  },
  {
   "cell_type": "markdown",
   "metadata": {},
   "source": [
    "## Dynamic Reduction Network"
   ]
  },
  {
   "cell_type": "code",
   "execution_count": 8,
   "metadata": {},
   "outputs": [],
   "source": [
    "### DRN works dont change\n",
    "\n",
    "import os\n",
    "import os.path as osp\n",
    "import math\n",
    "\n",
    "import numpy as np\n",
    "import torch\n",
    "import gc\n",
    "import torch.nn as nn\n",
    "import torch.nn.functional as F\n",
    "import torch_geometric.transforms as T\n",
    "\n",
    "from torch.utils.checkpoint import checkpoint\n",
    "from torch_cluster import knn_graph\n",
    "\n",
    "from torch_geometric.nn import EdgeConv, NNConv\n",
    "\n",
    "from torch_geometric.utils import normalized_cut\n",
    "from torch_geometric.utils import remove_self_loops\n",
    "from torch_geometric.utils.undirected import to_undirected\n",
    "from torch_geometric.nn import (graclus, max_pool, max_pool_x,\n",
    "                                global_mean_pool, global_max_pool,\n",
    "                                global_add_pool,BatchNorm)\n",
    "\n",
    "transform = T.Cartesian(cat=False)\n",
    "\n",
    "def normalized_cut_2d(edge_index, pos):\n",
    "    row, col = edge_index\n",
    "    edge_attr = torch.norm(pos[row] - pos[col], p=2, dim=1)\n",
    "    return normalized_cut(edge_index, edge_attr, num_nodes=pos.size(0))\n",
    "\n",
    "class DynamicReductionNetwork(nn.Module):\n",
    "    # This model iteratively contracts nearest neighbour graphs \n",
    "    # until there is one output node.\n",
    "    # The latent space trained to group useful features at each level\n",
    "    # of aggregration.\n",
    "    # This allows single quantities to be regressed from complex point counts\n",
    "    # in a location and orientation invariant way.\n",
    "    # One encoding layer is used to abstract away the input features.\n",
    "    def __init__(self, input_dim=5, hidden_dim=64, output_dim=1, k=16, aggr='add',\n",
    "                 norm=torch.tensor([1./500., 1./500., 1./54., 1/25., 1./1000.])):\n",
    "        super(DynamicReductionNetwork, self).__init__()\n",
    "\n",
    "        self.datanorm = nn.Parameter(norm,requires_grad=True)\n",
    "        \n",
    "        self.k = k\n",
    "        start_width = 2 * hidden_dim\n",
    "        middle_width = 3 * hidden_dim // 2\n",
    "\n",
    "        \n",
    "        \n",
    "        self.inputnet =  nn.Sequential(\n",
    "            nn.Linear(input_dim, hidden_dim//2),            \n",
    "            nn.ELU(),\n",
    "            nn.Linear(hidden_dim//2, hidden_dim//2),\n",
    "            nn.ELU(),\n",
    "\n",
    "            nn.Linear(hidden_dim//2, hidden_dim),\n",
    "            nn.ELU(),\n",
    "        )\n",
    "        \n",
    "        \n",
    "        convnn1 = nn.Sequential(nn.Linear(start_width, middle_width),\n",
    "                                nn.ELU(),\n",
    "                                nn.Dropout(0.2),\n",
    "                                nn.Linear(middle_width, hidden_dim),                                             \n",
    "                                nn.ELU()\n",
    "                                )\n",
    "        convnn2 = nn.Sequential(nn.Linear(start_width, middle_width),\n",
    "                                nn.ELU(),\n",
    "                                nn.Dropout(0.2),\n",
    "                                nn.Linear(middle_width, hidden_dim),                                             \n",
    "                                nn.ELU()\n",
    "                                )\n",
    "        \n",
    "        convnn3 = nn.Sequential(nn.Linear(start_width, middle_width),\n",
    "                                nn.ELU(),\n",
    "                                nn.Dropout(0.2),\n",
    "                                nn.Linear(middle_width, hidden_dim),                                             \n",
    "                                nn.ELU()\n",
    "                                )\n",
    "                \n",
    "        self.edgeconv1 = EdgeConv(nn=convnn1, aggr=aggr)\n",
    "        self.edgeconv2 = EdgeConv(nn=convnn2, aggr=aggr)\n",
    "        self.edgeconv3 = EdgeConv(nn=convnn3, aggr=aggr)\n",
    "        \n",
    "        self.output = nn.Sequential(nn.Linear(hidden_dim, hidden_dim//2),\n",
    "                                    nn.ELU(),\n",
    "                                    nn.Linear(hidden_dim//2, hidden_dim//2),\n",
    "                                    nn.ELU(),\n",
    "                                    nn.Linear(hidden_dim//2, output_dim)\n",
    "                                   )\n",
    "        self.batchnorm1 = BatchNorm(hidden_dim)\n",
    "        \n",
    "    def forward(self, data):        \n",
    "        data.x = self.datanorm * data.x\n",
    "        data.x = self.inputnet(data.x)\n",
    "        \n",
    "\n",
    "        data.edge_index = to_undirected(knn_graph(data.x, self.k, data.batch, loop=False, flow=self.edgeconv1.flow))\n",
    "        data.x = self.edgeconv1(data.x, data.edge_index)\n",
    "        \n",
    "        weight = normalized_cut_2d(data.edge_index, data.x)\n",
    "        cluster = graclus(data.edge_index, weight, data.x.size(0))\n",
    "        data.edge_attr = None\n",
    "        data = max_pool(cluster, data)\n",
    "        \n",
    "        data.edge_index = to_undirected(knn_graph(data.x, self.k, data.batch, loop=False, flow=self.edgeconv2.flow))\n",
    "        data.x = self.edgeconv2(data.x, data.edge_index)\n",
    "        \n",
    "        weight = normalized_cut_2d(data.edge_index, data.x)\n",
    "        cluster = graclus(data.edge_index, weight, data.x.size(0))\n",
    "        x, batch = max_pool_x(cluster, data.x, data.batch)\n",
    "\n",
    "        x = global_max_pool(x, batch)\n",
    "\n",
    "        return self.output(x).squeeze(-1)"
   ]
  },
  {
   "cell_type": "markdown",
   "metadata": {},
   "source": [
    "## Define model and define train and test functions"
   ]
  },
  {
   "cell_type": "code",
   "execution_count": 9,
   "metadata": {},
   "outputs": [
    {
     "name": "stdout",
     "output_type": "stream",
     "text": [
      "Net(\n",
      "  (drn): DynamicReductionNetwork(\n",
      "    (inputnet): Sequential(\n",
      "      (0): Linear(in_features=5, out_features=15, bias=True)\n",
      "      (1): ELU(alpha=1.0)\n",
      "      (2): Linear(in_features=15, out_features=15, bias=True)\n",
      "      (3): ELU(alpha=1.0)\n",
      "      (4): Linear(in_features=15, out_features=30, bias=True)\n",
      "      (5): ELU(alpha=1.0)\n",
      "    )\n",
      "    (edgeconv1): EdgeConv(nn=Sequential(\n",
      "      (0): Linear(in_features=60, out_features=45, bias=True)\n",
      "      (1): ELU(alpha=1.0)\n",
      "      (2): Dropout(p=0.2, inplace=False)\n",
      "      (3): Linear(in_features=45, out_features=30, bias=True)\n",
      "      (4): ELU(alpha=1.0)\n",
      "    ))\n",
      "    (edgeconv2): EdgeConv(nn=Sequential(\n",
      "      (0): Linear(in_features=60, out_features=45, bias=True)\n",
      "      (1): ELU(alpha=1.0)\n",
      "      (2): Dropout(p=0.2, inplace=False)\n",
      "      (3): Linear(in_features=45, out_features=30, bias=True)\n",
      "      (4): ELU(alpha=1.0)\n",
      "    ))\n",
      "    (edgeconv3): EdgeConv(nn=Sequential(\n",
      "      (0): Linear(in_features=60, out_features=45, bias=True)\n",
      "      (1): ELU(alpha=1.0)\n",
      "      (2): Dropout(p=0.2, inplace=False)\n",
      "      (3): Linear(in_features=45, out_features=30, bias=True)\n",
      "      (4): ELU(alpha=1.0)\n",
      "    ))\n",
      "    (output): Sequential(\n",
      "      (0): Linear(in_features=30, out_features=15, bias=True)\n",
      "      (1): ELU(alpha=1.0)\n",
      "      (2): Linear(in_features=15, out_features=15, bias=True)\n",
      "      (3): ELU(alpha=1.0)\n",
      "      (4): Linear(in_features=15, out_features=2, bias=True)\n",
      "    )\n",
      "    (batchnorm1): BatchNorm(30)\n",
      "  )\n",
      ")\n"
     ]
    }
   ],
   "source": [
    "## training\n",
    "\n",
    "import os.path as osp\n",
    "\n",
    "import torch\n",
    "import torch.nn as nn\n",
    "import torch.nn.functional as F\n",
    "\n",
    "import torch_geometric.transforms as T\n",
    "from torch_geometric.data import DataLoader\n",
    "\n",
    "\n",
    "## define model\n",
    "class Net(nn.Module):\n",
    "    def __init__(self):\n",
    "        super(Net, self).__init__()\n",
    "        ## simple edgeconv \n",
    "        #self.drn = PIDNetwork(input_dim=5,\n",
    "        #                    hidden_dim=50, #50\n",
    "        #                    k=16,#16,\n",
    "        #                    #norm=torch.tensor([1./10., 1./10., 1./100., 1./10.])\n",
    "        #                     )\n",
    " \n",
    "        ### DRN \n",
    "        self.drn = DynamicReductionNetwork(input_dim=5,\n",
    "                                           hidden_dim=30, #50\n",
    "                                           k=8,#16\n",
    "                                           output_dim=2,\n",
    "                                           norm=torch.tensor([1., 1., 1., 1.,1.]))\n",
    "    \n",
    "    def forward(self, data):\n",
    "        logits = self.drn(data)\n",
    "        return logits\n",
    "    \n",
    "device = torch.device('cpu')#('cuda' if torch.cuda.is_available() else 'cpu')\n",
    "\n",
    "model = Net().to(device)\n",
    "print(model)\n",
    "## choose optimiser\n",
    "optimizer = torch.optim.Adadelta(model.parameters())#, lr=1e-3, weight_decay=1e-3)\n",
    "\n",
    "## choose loss\n",
    "losscat = torch.nn.CrossEntropyLoss()    \n",
    "\n",
    "\n",
    "def categorical_loss_only(outputa,trutha):\n",
    "    total_loss =  losscat(outputa,trutha) \n",
    "    return total_loss\n",
    "\n",
    "\n",
    "## train model\n",
    "def train(epoch):\n",
    "    model.train()\n",
    "    #scheduler.step()\n",
    "    #torch.cuda.empty_cache()\n",
    "    loss = []\n",
    "    \n",
    "    predc = []\n",
    "    truec = []\n",
    "    for data in tqdm(trainloader):\n",
    "            data = data.to(device)        \n",
    "            \n",
    "            result = model(data) ## pass data through model\n",
    "            lossc = categorical_loss_only(result, data.y) ## calculate loss\n",
    "            loss.append(lossc.item()) \n",
    "            lossc.backward() ## calculate gradients\n",
    "            optimizer.step() ## update parameters\n",
    "            optimizer.zero_grad()\n",
    "            #scheduler.batch_step()\n",
    "            for i in result:\n",
    "                predc.append(i.detach().cpu().argmax())\n",
    "            for i in data.y.detach():\n",
    "                truec.append(i.detach().cpu())\n",
    "            \n",
    "            \n",
    "    predc = np.array(predc)\n",
    "    truec = np.array(truec)\n",
    "    print(\"train accuracy  :\",np.equal(predc,truec).sum()/len(truec))        \n",
    "    print( 'batches for train:',len(loss)) \n",
    "    print('train loss:',np.mean(np.array(loss)))\n",
    "    return np.mean(np.array(loss)) , np.equal(predc,truec).sum()/len(truec)\n",
    "\n",
    "from scipy.stats import norm\n",
    "import matplotlib.mlab as mlab\n",
    "import scipy.stats as scs\n",
    "from scipy.optimize import curve_fit\n",
    "import matplotlib.pyplot as plt\n",
    "%matplotlib inline\n",
    "\n",
    "\n",
    "## test model\n",
    "def evaluate(epoch):\n",
    "        \"\"\"\"Evaluate the model\"\"\"\n",
    "        model.zero_grad()\n",
    "        torch.cuda.empty_cache()\n",
    "        model.eval()\n",
    "        pred = []\n",
    "        true = []\n",
    "        loss= []\n",
    "        \n",
    "        correct = 0\n",
    "        predc = []\n",
    "        truec = []\n",
    "        for data in tqdm(testloader):\n",
    "            data = data.to(device)        \n",
    "            result = model(data) ## pass data through model\n",
    "            lossc = categorical_loss_only(result, data.y)\n",
    "            loss.append(lossc.item())\n",
    "\n",
    "            for i in result:\n",
    "                predc.append(i.detach().cpu().argmax())\n",
    "            for i in data.y.detach():\n",
    "                truec.append(i.detach().cpu())\n",
    "            \n",
    "            \n",
    "        #print(predc,truec)\n",
    "        predc = np.array(predc)\n",
    "        truec = np.array(truec)\n",
    "        ## calculate accuracy\n",
    "        print(\"accuracy  :\",np.equal(predc,truec).sum()/len(truec))\n",
    "        \n",
    "        print('batches for test:', len(loss)) \n",
    "        print('test loss:',np.mean(np.array(loss)))\n",
    "\n",
    "        return np.mean(np.array(loss)),np.equal(predc,truec).sum()/len(truec)\n",
    "        "
   ]
  },
  {
   "cell_type": "markdown",
   "metadata": {},
   "source": [
    "## Loop over dataset, train and save models per epoch as well as for best loss/accuracy"
   ]
  },
  {
   "cell_type": "code",
   "execution_count": 10,
   "metadata": {
    "scrolled": true
   },
   "outputs": [
    {
     "name": "stdout",
     "output_type": "stream",
     "text": [
      "epoch: 1\n"
     ]
    },
    {
     "name": "stderr",
     "output_type": "stream",
     "text": [
      "100%|██████████| 20/20 [01:31<00:00,  4.58s/it]\n"
     ]
    },
    {
     "name": "stdout",
     "output_type": "stream",
     "text": [
      "train accuracy  : 0.493\n",
      "batches for train: 20\n",
      "train loss: 1.0235704958438874\n"
     ]
    },
    {
     "name": "stderr",
     "output_type": "stream",
     "text": [
      "100%|██████████| 5/5 [00:10<00:00,  2.05s/it]"
     ]
    },
    {
     "name": "stdout",
     "output_type": "stream",
     "text": [
      "accuracy  : 0.5091743119266054\n",
      "batches for test: 5\n",
      "test loss: 0.6866703391075134\n",
      "new best test loss: 0.6866703391075134\n",
      "new best test accuracy: 0.5091743119266054\n"
     ]
    },
    {
     "name": "stderr",
     "output_type": "stream",
     "text": [
      "\n"
     ]
    }
   ],
   "source": [
    "checkpoint_dir = 'testssummerschool3/'\n",
    "\n",
    "os.makedirs(checkpoint_dir, exist_ok=True)\n",
    "best_loss = 99999999\n",
    "best_acc = 0\n",
    "losst = []\n",
    "lossv = []\n",
    "epochs = []\n",
    "acc = []\n",
    "acc_train = []\n",
    "for epoch in range(1, 501):\n",
    "    print ('epoch:',epoch)\n",
    "    loss_t,acc_t = train(epoch)\n",
    "    losst.append(loss_t)\n",
    "    acc_train.append(acc_t)\n",
    "    loss_epoch,accuracy = evaluate(epoch)\n",
    "    lossv.append(loss_epoch)\n",
    "    acc.append(accuracy)\n",
    "    epochs.append(epoch)\n",
    "    checkpoint = {\n",
    "    'epoch': epoch + 1,\n",
    "    'state_dict': model.state_dict(),\n",
    "    'optimizer': optimizer.state_dict()\n",
    "    }\n",
    "    \n",
    "    \n",
    "    \n",
    "    checkpoint_file = 'model_epoch_%i.pth.tar' % ( epoch )\n",
    "    torch.save(checkpoint,\n",
    "                   os.path.join(checkpoint_dir,checkpoint_file ))\n",
    "    ## get best loss and save model corresponding to it\n",
    "    if loss_epoch < best_loss:\n",
    "        best_loss = loss_epoch\n",
    "        print('new best test loss:',best_loss)\n",
    "        torch.save(checkpoint,\n",
    "                   os.path.join(checkpoint_dir,'model_checkpoint_best_loss.pth.tar' ))\n",
    "    \n",
    "    ## get best accuracy and save model corresponding to it\n",
    "    if accuracy > best_acc:\n",
    "        best_acc = accuracy\n",
    "        print('new best test accuracy:',best_acc)\n",
    "        torch.save(checkpoint,\n",
    "                   os.path.join(checkpoint_dir,'model_checkpoint_best_accuracy.pth.tar' ))\n",
    "    \n",
    "    ## plot test vs train loss and accuracy every 10 epochs\n",
    "    if (epoch%10 == 0):\n",
    "        plt.plot(np.array(epochs),np.array(losst),c='b',label='training loss')\n",
    "        plt.plot(np.array(epochs),np.array(lossv),c='r',label='testing loss')\n",
    "        plt.legend()\n",
    "        plt.show()\n",
    "        plt.plot(np.array(epochs),np.array(acc_train),c='b',label='training acc')\n",
    "        plt.plot(np.array(epochs),np.array(acc),c='r',label='testing acc')\n",
    "        plt.legend()\n",
    "        plt.show()\n",
    "        \n",
    "    break"
   ]
  },
  {
   "cell_type": "markdown",
   "metadata": {},
   "source": [
    "## Load model for inference"
   ]
  },
  {
   "cell_type": "code",
   "execution_count": 11,
   "metadata": {},
   "outputs": [
    {
     "name": "stdout",
     "output_type": "stream",
     "text": [
      "13987\n"
     ]
    }
   ],
   "source": [
    "model_fname = 'model_DRN.pth.tar' ## 90% accuracy drn\n",
    "#model_fname = 'model_PIDSimpleEdgeConv.pth.tar' ## 90% accuracy pidnetwork\n",
    "mdl=Net().to(device)\n",
    "mdl.load_state_dict(torch.load(model_fname,map_location=torch.device('cpu'))['state_dict'])\n",
    "mdl.eval()\n",
    "print(sum(p.numel() for p in model.parameters()))"
   ]
  },
  {
   "cell_type": "markdown",
   "metadata": {},
   "source": [
    "## Do evaluation"
   ]
  },
  {
   "cell_type": "code",
   "execution_count": 12,
   "metadata": {},
   "outputs": [
    {
     "name": "stderr",
     "output_type": "stream",
     "text": [
      "100%|██████████| 20/20 [00:47<00:00,  2.39s/it]\n"
     ]
    }
   ],
   "source": [
    "\n",
    "pred = []\n",
    "true = []\n",
    "predc = []\n",
    "misp = []\n",
    "mist = []\n",
    "misen=[]\n",
    "misidx = []\n",
    "\n",
    "idx = 0\n",
    "model.eval()\n",
    "for data in tqdm(trainloader):\n",
    "    data = data.to(device)        \n",
    "    result = mdl(data)\n",
    "    for i,j in zip(result,data.y.detach()):\n",
    "        pred.append(i.detach().cpu())\n",
    "        predc.append(i.detach().cpu()[0:2].argmax())\n",
    "        true.append(j.detach().cpu())\n",
    "    idx += 1"
   ]
  },
  {
   "cell_type": "code",
   "execution_count": 13,
   "metadata": {},
   "outputs": [
    {
     "name": "stdout",
     "output_type": "stream",
     "text": [
      "tpr|1-fpr|threshold 0.908 0.95 0.770068\n"
     ]
    },
    {
     "name": "stderr",
     "output_type": "stream",
     "text": [
      "/Users/shamik/Software/miniconda3/envs/py3613/lib/python3.6/site-packages/ipykernel_launcher.py:5: UserWarning: Implicit dimension choice for softmax has been deprecated. Change the call to include dim=X as an argument.\n",
      "  \"\"\"\n"
     ]
    },
    {
     "data": {
      "image/png": "[encoded data removed]",
      "text/plain": [
       "<Figure size 1600x800 with 1 Axes>"
      ]
     },
     "metadata": {
      "needs_background": "light"
     },
     "output_type": "display_data"
    },
    {
     "data": {
      "image/png": "[encoded data removed]",
      "text/plain": [
       "<Figure size 1600x800 with 1 Axes>"
      ]
     },
     "metadata": {
      "needs_background": "light"
     },
     "output_type": "display_data"
    }
   ],
   "source": [
    "from matplotlib.pyplot import figure\n",
    "### ROCs\n",
    "\n",
    "figure(figsize=(20, 10), dpi=80)\n",
    "preda = [F.softmax(i).numpy() for i in pred]\n",
    "preda = np.array(preda)\n",
    "trutha = np.array([i.numpy()  for i in true] )\n",
    "#print(preda)\n",
    "\n",
    "from sklearn import metrics\n",
    "\n",
    "\n",
    "fpr, tpr, threshold = metrics.roc_curve(1-trutha, 1-preda[:,1])\n",
    "roc_auc = metrics.auc(fpr, tpr)\n",
    "\n",
    "tprv = 0\n",
    "tnrv = 0\n",
    "thrshv = 0\n",
    "for i in range(len(fpr)):\n",
    "    if (tpr[i] > 0.90 ):\n",
    "        print(\"tpr|1-fpr|threshold\",tpr[i],1-fpr[i],threshold[i])\n",
    "        tprv = tpr[i]\n",
    "        tnrv = 1-fpr[i]\n",
    "        thrshv = threshold[i]\n",
    "        break\n",
    "        \n",
    "# method I: plt\n",
    "import matplotlib.pyplot as plt\n",
    "plt.title('Receiver Operating Characteristic')\n",
    "plt.plot(tpr, 1-fpr, 'b', label = 'AUC = %0.2f' % roc_auc)\n",
    "plt.legend(loc = 'lower right')\n",
    "plt.plot([0, 1], [0, 1],'r--')\n",
    "plt.xlim([0.7, 1])\n",
    "plt.axvline(tprv)\n",
    "plt.axhline(tnrv)\n",
    "plt.xlabel('True Positive Rate(sig eff)')\n",
    "plt.ylabel('True Negative Rate')\n",
    "plt.show()\n",
    "\n",
    "figure(figsize=(20, 10), dpi=80)\n",
    "plt.hist(1-preda[:,1][trutha == 0],label='photon',range=[0,1],bins=200,alpha=0.7)\n",
    "plt.hist(1-preda[:,1][trutha == 1],label='pion',range=[0,1],bins=200,alpha=0.7)\n",
    "plt.axvline(thrshv)\n",
    "plt.legend()\n",
    "plt.xlim([0., 1])\n",
    "plt.yscale('log')\n",
    "plt.show()"
   ]
  },
  {
   "cell_type": "code",
   "execution_count": null,
   "metadata": {},
   "outputs": [],
   "source": []
  }
 ],
 "metadata": {
  "kernelspec": {
   "display_name": "Python 3",
   "language": "python",
   "name": "python3"
  },
  "language_info": {
   "codemirror_mode": {
    "name": "ipython",
    "version": 3
   },
   "file_extension": ".py",
   "mimetype": "text/x-python",
   "name": "python",
   "nbconvert_exporter": "python",
   "pygments_lexer": "ipython3",
   "version": "3.6.13"
  }
 },
 "nbformat": 4,
 "nbformat_minor": 4
}
